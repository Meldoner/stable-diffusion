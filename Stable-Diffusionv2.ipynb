{
  "nbformat": 4,
  "nbformat_minor": 0,
  "metadata": {
    "colab": {
      "provenance": [],
      "include_colab_link": true
    },
    "kernelspec": {
      "name": "python3",
      "display_name": "Python 3"
    },
    "language_info": {
      "name": "python"
    },
    "accelerator": "GPU",
    "gpuClass": "standard"
  },
  "cells": [
    {
      "cell_type": "markdown",
      "metadata": {
        "id": "view-in-github",
        "colab_type": "text"
      },
      "source": [
        "<a href=\"https://colab.research.google.com/github/Meldoner/stable-diffusion-webui-colab/blob/main/Stable-Diffusionv2.ipynb\" target=\"_parent\"><img src=\"https://colab.research.google.com/assets/colab-badge.svg\" alt=\"Open In Colab\"/></a>"
      ]
    },
    {
      "cell_type": "code",
      "execution_count": null,
      "metadata": {
        "id": "uKc4Nj4AXhMQ",
        "cellView": "form"
      },
      "outputs": [],
      "source": [
        "#@title Stable Diffusion web-ui colab by [Meldoner](https://github.com/Meldoner)\n",
        "!git clone https://github.com/AUTOMATIC1111/stable-diffusion-webui\n",
        "!git clone https://github.com/yfszzx/stable-diffusion-webui-images-browser /content/stable-diffusion-webui/extensions/stable-diffusion-webui-images-browser\n",
        "model = \"sd2.1\" #@param [\"openjourneyv2\",\"sd2.1\",\"sd1.5\",\"abyss-orange-mix2\",\"anythingv3\",\"anythingv4.5\",\"deliberate\",\"dreamlike\",\"dreamshaper\",\"kenshi\",\"protogenx5.8\",\"grapefruit\",\"realistic-vision\",\"corneos-7th-heaven-mix\",\"pastel-mix\"]\n",
        "\n",
        "#@markdown Нажми, если хочешь использовать свою модель\n",
        "load_own_model = False #@param{type:\"boolean\"}\n",
        "model_url = \"Вставь ссылку на модель (ckpt/safetensors)\" #@param {type:\"string\"}\n",
        "\n",
        "#@markdown Нажми если хочешь использовать свой VAE (пропусти если не знаешь)\n",
        "load_own_vae = False #@param{type:\"boolean\"}\n",
        "vae_url = \"Вставь ссылку на VAE\" #@param {type:\"string\"}\n",
        "\n",
        "if (model=='openjourneyv2') and (load_own_model == False):\n",
        "  !wget \"https://huggingface.co/prompthero/openjourney-v2/resolve/main/openjourney-v2.ckpt\" -P /content/stable-diffusion-webui/models/Stable-diffusion\n",
        "\n",
        "if (model=='abyss-orange-mix2') and (load_own_model == False):\n",
        "  !wget \"https://huggingface.co/WarriorMama777/OrangeMixs/resolve/main/Models/AbyssOrangeMix2/AbyssOrangeMix2_nsfw.safetensors\" -P /content/stable-diffusion-webui/models/Stable-diffusion\n",
        "  !wget \"https://huggingface.co/WarriorMama777/OrangeMixs/resolve/main/VAEs/orangemix.vae.pt\" -P /content/stable-diffusion-webui/models/VAE\n",
        "\n",
        "if (model=='anythingv3') and (load_own_model == False):\n",
        "  !wget \"https://huggingface.co/admruul/anything-v3.0/resolve/main/Anything-V3.0-pruned.safetensors\" -P /content/stable-diffusion-webui/models/Stable-diffusion\n",
        "  !wget \"https://huggingface.co/admruul/anything-v3.0/resolve/main/Anything-V3.0.vae.pt\" -P /content/stable-diffusion-webui/models/VAE\n",
        "\n",
        "if (model=='anythingv4.5') and (load_own_model == False):\n",
        "  !wget \"https://huggingface.co/andite/anything-v4.0/resolve/main/anything-v4.5-pruned.safetensors\" -P /content/stable-diffusion-webui/models/Stable-diffusion\n",
        "  !wget \"https://huggingface.co/andite/anything-v4.0/resolve/main/anything-v4.0.vae.pt\" -P /content/stable-diffusion-webui/models/VAE\n",
        "\n",
        "if (model=='deliberate') and (load_own_model == False):\n",
        "  !wget \"https://huggingface.co/XpucT/Deliberate/blob/main/Deliberate.safetensors\" -P /content/stable-diffusion-webui/models/Stable-diffusion\n",
        "\n",
        "if (model=='dreamlike') and (load_own_model == False):\n",
        "  !wget \"https://huggingface.co/dreamlike-art/dreamlike-diffusion-1.0/blob/main/dreamlike-diffusion-1.0.safetensors\" -P /content/stable-diffusion-webui/models/Stable-diffusion\n",
        "\n",
        "if (model=='dreamshaper') and (load_own_model == False):\n",
        "  !wget \"https://huggingface.co/Lykon/DreamShaper/blob/main/Dreamshaper_3.32_baked_vae_clip_fix.safetensors\" -P /content/stable-diffusion-webui/models/Stable-diffusion\n",
        "\n",
        "if (model=='kenshi') and (load_own_model == False):\n",
        "  !wget \"https://huggingface.co/SweetLuna/Kenshi/resolve/main/KENSHI%2001/KENSHI01_Pruned.safetensors\" -P /content/stable-diffusion-webui/models/Stable-diffusion\n",
        "  !wget \"https://huggingface.co/hakurei/waifu-diffusion-v1-4/resolve/main/vae/kl-f8-anime2.ckpt\" -P /content/stable-diffusion-webui/models/VAE\n",
        "  \n",
        "if (model=='protogenx5.8') and (load_own_model == False):\n",
        "  !wget \"https://huggingface.co/darkstorm2150/Protogen_x5.8_Official_Release/resolve/main/ProtoGen_X5.8.safetensors\" -P /content/stable-diffusion-webui/models/Stable-diffusion\n",
        "  \n",
        "if (model=='sd2.1') and (load_own_model == False):\n",
        "  !wget \"https://huggingface.co/stabilityai/stable-diffusion-2-1/resolve/main/v2-1_768-ema-pruned.safetensors\" -P /content/stable-diffusion-webui/models/Stable-diffusion\n",
        "  \n",
        "if (model=='sd1.5') and (load_own_model == False):\n",
        "  !wget \"https://huggingface.co/runwayml/stable-diffusion-v1-5/resolve/main/v1-5-pruned-emaonly.safetensors\" -P /content/stable-diffusion-webui/models/Stable-diffusion\n",
        "  \n",
        "if (model=='grapefruit') and (load_own_model == False):\n",
        "  !wget \"https://huggingface.co/iZELX1/Grapefruit/resolve/main/grapefruitv4.safetensors\" -P /content/stable-diffusion-webui/models/Stable-diffusion\n",
        "  !wget \"https://huggingface.co/andite/anything-v4.0/resolve/main/anything-v4.0.vae.pt\" -P /content/stable-diffusion-webui/models/VAE\n",
        "    \n",
        "if (model=='realistic-vision') and (load_own_model == False):\n",
        "  !wget \"https://huggingface.co/SG161222/Realistic_Vision_V1.3/resolve/main/Realistic_Vision_V1.3.safetensors\" -P /content/stable-diffusion-webui/models/Stable-diffusion\n",
        "    \n",
        "if (model=='corneos-7th-heaven-mix') and (load_own_model == False):\n",
        "  !wget \"https://huggingface.co/dwarfbum/corneos7thHeavenMix_v2/blob/main/corneos7thHeavenMix_v2.safetensors\" -P /content/stable-diffusion-webui/models/Stable-diffusion\n",
        "  !wget \"https://huggingface.co/andite/anything-v4.0/resolve/main/anything-v4.0.vae.pt\" -P /content/stable-diffusion-webui/models/VAE\n",
        "\n",
        "if (model=='pastel-mix') and (load_own_model == False):\n",
        "  !wget \"https://huggingface.co/andite/pastel-mix/resolve/main/pastelmix.safetensors\" -P /content/stable-diffusion-webui/models/Stable-diffusion\n",
        "  !wget \"https://huggingface.co/andite/pastel-mix/resolve/main/pastel-waifu-diffusion.vae.pt\" -P /content/stable-diffusion-webui/models/VAE\n",
        "\n",
        "if  load_own_model == True:\n",
        "  !wget \"$model_url\" -P /content/stable-diffusion-webui/models/Stable-diffusion\n",
        "\n",
        "if load_own_vae == True:\n",
        "  !wget \"$vae_url\" -P /content/stable-diffusion-webui/models/VAE\n",
        "\n",
        "!pip install --upgrade fastapi==0.90.1\n",
        "%cd /content/stable-diffusion-webui\n",
        "!COMMANDLINE_ARGS=\"--share --disable-safe-unpickle --no-half-vae --xformers --reinstall-xformers --enable-insecure-extension-access\" REQS_FILE=\"requirements.txt\" python launch.py"
      ]
    }
  ]
}