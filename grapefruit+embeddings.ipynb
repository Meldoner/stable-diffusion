{
  "nbformat": 4,
  "nbformat_minor": 0,
  "metadata": {
    "colab": {
      "provenance": [],
      "toc_visible": true,
      "authorship_tag": "ABX9TyPqa/gbxTWFELmqGDkAkvIP",
      "include_colab_link": true
    },
    "kernelspec": {
      "name": "python3",
      "display_name": "Python 3"
    },
    "language_info": {
      "name": "python"
    },
    "accelerator": "GPU",
    "gpuClass": "standard"
  },
  "cells": [
    {
      "cell_type": "code",
      "execution_count": null,
      "metadata": {
        "id": "uKc4Nj4AXhMQ",
        "cellView": "form"
      },
      "outputs": [],
      "source": [
        "#@title Stable Diffusion\n",
        "!git clone https://github.com/AUTOMATIC1111/stable-diffusion-webui\n",
        "!git clone https://github.com/yfszzx/stable-diffusion-webui-images-browser /content/stable-diffusion-webui/extensions/stable-diffusion-webui-images-browser\n",
        "!wget \"https://huggingface.co/iZELX1/Grapefruit/resolve/main/grapefruitv4.safetensors\" -P /content/stable-diffusion-webui/models/Stable-diffusion\n",
        "!wget \"https://huggingface.co/andite/anything-v4.0/resolve/main/anything-v4.0.vae.pt\" -P /content/stable-diffusion-webui/models/VAE\n",
        "!wget \"https://huggingface.co/dwarfbum/nagatoro-5000/resolve/main/nagatoro-5000.pt\" -P /content/stable-diffusion-webui/embeddings\n",
        "!wget \"https://huggingface.co/dwarfbum/nagatoro-5000/resolve/main/corneo_makima.pt\" -P /content/stable-diffusion-webui/embeddings\n",
        "%cd /content/stable-diffusion-webui\n",
        "!COMMANDLINE_ARGS=\"--share --disable-safe-unpickle --no-half-vae --xformers --reinstall-xformers --enable-insecure-extension-access\" REQS_FILE=\"requirements.txt\" python launch.py"
      ]
    }
  ]
}