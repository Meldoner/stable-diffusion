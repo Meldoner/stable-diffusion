{
  "nbformat": 4,
  "nbformat_minor": 0,
  "metadata": {
    "colab": {
      "provenance": [],
      "toc_visible": true,
      "authorship_tag": "ABX9TyPqa/gbxTWFELmqGDkAkvIP",
      "include_colab_link": true
    },
    "kernelspec": {
      "name": "python3",
      "display_name": "Python 3"
    },
    "language_info": {
      "name": "python"
    },
    "accelerator": "GPU",
    "gpuClass": "standard"
  },
  "cells": [
    {
      "cell_type": "markdown",
      "metadata": {
        "id": "view-in-github",
        "colab_type": "text"
      },
      "source": [
        "<a href=\"https://colab.research.google.com/github/Meldoner/stable-diffusion/blob/main/StableDiffusion.ipynb\" target=\"_parent\"><img src=\"https://colab.research.google.com/assets/colab-badge.svg\" alt=\"Open In Colab\"/></a>"
      ]
    },
    {
      "cell_type": "code",
      "execution_count": null,
      "metadata": {
        "id": "uKc4Nj4AXhMQ",
        "cellView": "form"
      },
      "outputs": [],
      "source": [
        "#@title Stable Diffusion\n",
        "!git clone https://github.com/AUTOMATIC1111/stable-diffusion-webui\n",
        "!git clone https://github.com/yfszzx/stable-diffusion-webui-images-browser /content/stable-diffusion-webui/extensions/stable-diffusion-webui-images-browser\n",
        "model = \"Вставь ссылку на модель (ckpt/safetensors)\" #@param {type:\"string\"}\n",
        "!wget \"$model\" -P /content/stable-diffusion-webui/models/Stable-diffusion\n",
        "vae = \"Вставь ссылку на vae (пропусти если не знаешь что это)\" #@param {type:\"string\"}\n",
        "!wget \"$vae\" -P /content/stable-diffusion-webui/models/VAE\n",
        "%cd /content/stable-diffusion-webui\n",
        "!COMMANDLINE_ARGS=\"--share --disable-safe-unpickle --no-half-vae --xformers --reinstall-xformers --enable-insecure-extension-access\" REQS_FILE=\"requirements.txt\" python launch.py"
      ]
    },
    {
      "cell_type": "code",
      "source": [],
      "metadata": {
        "id": "GmlpZKC5XuyM"
      },
      "execution_count": null,
      "outputs": []
    }
  ]
}